{
 "cells": [
  {
   "cell_type": "code",
   "execution_count": 55,
   "metadata": {},
   "outputs": [],
   "source": [
    "import numpy as np\n",
    "from sklearn.decomposition import PCA\n",
    "import matplotlib.pyplot as plt\n",
    "%matplotlib inline"
   ]
  },
  {
   "cell_type": "code",
   "execution_count": 192,
   "metadata": {},
   "outputs": [],
   "source": [
    "def genData(means,var1,var2,corr):\n",
    "    covar12 = corr*var1*var2\n",
    "    cov  = [[np.square(var1),covar12],[covar12,np.square(var2)]]\n",
    "\n",
    "    N = 1500\n",
    "    L = 10\n",
    "    np.random.seed(42)\n",
    "    X = np.random.multivariate_normal(means, cov, N)\n",
    "\n",
    "    pca = PCA(n_components=2)\n",
    "    pca.fit(X)\n",
    "    PCA(n_components=2)\n",
    "    m    = np.around(pca.mean_,2)\n",
    "    var  = np.around(pca.explained_variance_,2)\n",
    "    comp = np.around(pca.components_,2)\n",
    "    print(m)\n",
    "    print(np.sqrt(var))\n",
    "    print(comp)\n",
    "    print(pca.singular_values_)\n",
    "    print(pca.explained_variance_ratio_)\n",
    "    return X, m, var, comp"
   ]
  },
  {
   "cell_type": "code",
   "execution_count": 195,
   "metadata": {},
   "outputs": [
    {
     "name": "stdout",
     "output_type": "stream",
     "text": [
      "[-0.04  1.47]\n",
      "[2.08326667 0.6164414 ]\n",
      "[[ 0.39  0.92]\n",
      " [-0.92  0.39]]\n",
      "[80.64136235 23.93030429]\n",
      "[0.91906661 0.08093339]\n"
     ]
    },
    {
     "data": {
      "image/png": "[encoded data removed]",
      "text/plain": [
       "<Figure size 360x360 with 1 Axes>"
      ]
     },
     "metadata": {
      "needs_background": "light"
     },
     "output_type": "display_data"
    }
   ],
   "source": [
    "X, m, var, comp = genData([0,1.5],1,2,0.75)\n",
    "plt.figure(figsize=(5,5))\n",
    "plt.plot(X.T[0],X.T[1],'r+')\n",
    "plt.xlim(-L,L)\n",
    "plt.ylim(-L,L)\n",
    "plt.grid(True)\n",
    "plt.arrow(m[0], m[1], np.sqrt(var[0])*comp[0,0], np.sqrt(var[0])*comp[0,1], head_width=0.45, head_length=0.5, fc='k', ec='k', zorder=2.5)\n",
    "plt.arrow(m[0], m[1], np.sqrt(var[1])*comp[1,0], np.sqrt(var[1])*comp[1,1], head_width=0.45, head_length=0.5, fc='k', ec='k', zorder=2.5)\n",
    "plt.show()"
   ]
  },
  {
   "cell_type": "code",
   "execution_count": null,
   "metadata": {},
   "outputs": [],
   "source": []
  }
 ],
 "metadata": {
  "kernelspec": {
   "display_name": "Python 3",
   "language": "python",
   "name": "python3"
  },
  "language_info": {
   "codemirror_mode": {
    "name": "ipython",
    "version": 3
   },
   "file_extension": ".py",
   "mimetype": "text/x-python",
   "name": "python",
   "nbconvert_exporter": "python",
   "pygments_lexer": "ipython3",
   "version": "3.6.5"
  }
 },
 "nbformat": 4,
 "nbformat_minor": 4
}
