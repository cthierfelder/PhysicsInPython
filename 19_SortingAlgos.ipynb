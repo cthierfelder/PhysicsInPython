{
 "cells": [
  {
   "cell_type": "code",
   "execution_count": null,
   "metadata": {},
   "outputs": [],
   "source": [
    "from platform import python_version\n",
    "print(python_version())"
   ]
  },
  {
   "cell_type": "code",
   "execution_count": null,
   "metadata": {},
   "outputs": [],
   "source": [
    "import random\n",
    "import time\n",
    "import io\n",
    "import numpy as np\n",
    "import pandas as pd\n",
    "\n",
    "import matplotlib.pyplot as plt\n",
    "import plotly.graph_objects as go\n",
    "import plotly.express as px"
   ]
  },
  {
   "cell_type": "code",
   "execution_count": null,
   "metadata": {},
   "outputs": [],
   "source": []
  },
  {
   "cell_type": "code",
   "execution_count": null,
   "metadata": {},
   "outputs": [],
   "source": []
  },
  {
   "cell_type": "code",
   "execution_count": null,
   "metadata": {},
   "outputs": [],
   "source": []
  },
  {
   "cell_type": "code",
   "execution_count": 37,
   "metadata": {},
   "outputs": [],
   "source": [
    "def generateRandomList(sampleSize):\n",
    "    x = list(range(1,sampleSize+1,1))\n",
    "    y = random.sample(x,sampleSize)\n",
    "    return x,y\n",
    "\n",
    "def bubbleSort(Y, fullOutput = False):\n",
    "    n = len(Y)\n",
    "    YY = []\n",
    "    didSwitch = True\n",
    "    counterCompares = 0\n",
    "    counterSwitches = 0\n",
    "    while didSwitch == True:\n",
    "        didSwitch = False\n",
    "        print(Y)\n",
    "        for i in range(n-1):\n",
    "            counterCompares += 1\n",
    "            if Y[i] > Y[i+1]:\n",
    "                print('      ',i,Y[i],Y[i+1])\n",
    "                tmp = Y[i]\n",
    "                Y[i] = Y[i+1]\n",
    "                Y[i+1] = tmp\n",
    "                didSwitch = True\n",
    "                counterSwitches += 1\n",
    "                if fullOutput:\n",
    "                    YY.append(Y.copy())\n",
    "                \n",
    "    \n",
    "    if fullOutput:\n",
    "        return Y, counterCompares, counterSwitches, YY\n",
    "    else:\n",
    "        return Y, counterCompares, counterSwitches"
   ]
  },
  {
   "cell_type": "code",
   "execution_count": 3,
   "metadata": {},
   "outputs": [
    {
     "name": "stdout",
     "output_type": "stream",
     "text": [
      "63 21 21\n"
     ]
    }
   ],
   "source": [
    "X,Y = generateRandomList(10)\n",
    "Ysorted, counter1, counter2, YY = bubbleSort(Y.copy(),True)\n",
    "print(counter1, counter2, len(YY))"
   ]
  },
  {
   "cell_type": "code",
   "execution_count": 4,
   "metadata": {},
   "outputs": [
    {
     "data": {
      "text/plain": [
       "[[6, 7, 4, 8, 2, 3, 1, 5, 10, 9],\n",
       " [6, 7, 4, 2, 8, 3, 1, 5, 10, 9],\n",
       " [6, 7, 4, 2, 3, 8, 1, 5, 10, 9],\n",
       " [6, 7, 4, 2, 3, 1, 8, 5, 10, 9],\n",
       " [6, 7, 4, 2, 3, 1, 5, 8, 10, 9],\n",
       " [6, 7, 4, 2, 3, 1, 5, 8, 9, 10],\n",
       " [6, 4, 7, 2, 3, 1, 5, 8, 9, 10],\n",
       " [6, 4, 2, 7, 3, 1, 5, 8, 9, 10],\n",
       " [6, 4, 2, 3, 7, 1, 5, 8, 9, 10],\n",
       " [6, 4, 2, 3, 1, 7, 5, 8, 9, 10],\n",
       " [6, 4, 2, 3, 1, 5, 7, 8, 9, 10],\n",
       " [4, 6, 2, 3, 1, 5, 7, 8, 9, 10],\n",
       " [4, 2, 6, 3, 1, 5, 7, 8, 9, 10],\n",
       " [4, 2, 3, 6, 1, 5, 7, 8, 9, 10],\n",
       " [4, 2, 3, 1, 6, 5, 7, 8, 9, 10],\n",
       " [4, 2, 3, 1, 5, 6, 7, 8, 9, 10],\n",
       " [2, 4, 3, 1, 5, 6, 7, 8, 9, 10],\n",
       " [2, 3, 4, 1, 5, 6, 7, 8, 9, 10],\n",
       " [2, 3, 1, 4, 5, 6, 7, 8, 9, 10],\n",
       " [2, 1, 3, 4, 5, 6, 7, 8, 9, 10],\n",
       " [1, 2, 3, 4, 5, 6, 7, 8, 9, 10]]"
      ]
     },
     "execution_count": 4,
     "metadata": {},
     "output_type": "execute_result"
    }
   ],
   "source": [
    "YY"
   ]
  },
  {
   "cell_type": "code",
   "execution_count": 14,
   "metadata": {},
   "outputs": [
    {
     "name": "stdout",
     "output_type": "stream",
     "text": [
      "10 ....\n",
      "20 ....\n",
      "40 ....\n",
      "80 ....\n",
      "160 ....\n",
      "320 ....\n",
      "640 ....\n"
     ]
    },
    {
     "data": {
      "text/html": [
       "<div>\n",
       "<style scoped>\n",
       "    .dataframe tbody tr th:only-of-type {\n",
       "        vertical-align: middle;\n",
       "    }\n",
       "\n",
       "    .dataframe tbody tr th {\n",
       "        vertical-align: top;\n",
       "    }\n",
       "\n",
       "    .dataframe thead th {\n",
       "        text-align: right;\n",
       "    }\n",
       "</style>\n",
       "<table border=\"1\" class=\"dataframe\">\n",
       "  <thead>\n",
       "    <tr style=\"text-align: right;\">\n",
       "      <th></th>\n",
       "      <th>n</th>\n",
       "      <th>opsMean</th>\n",
       "      <th>opsStd</th>\n",
       "      <th>raw</th>\n",
       "    </tr>\n",
       "  </thead>\n",
       "  <tbody>\n",
       "    <tr>\n",
       "      <td>0</td>\n",
       "      <td>10</td>\n",
       "      <td>67.32</td>\n",
       "      <td>14.705020</td>\n",
       "      <td>[63, 54, 63, 81, 72, 72, 90, 63, 81, 54, 54, 7...</td>\n",
       "    </tr>\n",
       "    <tr>\n",
       "      <td>1</td>\n",
       "      <td>20</td>\n",
       "      <td>303.05</td>\n",
       "      <td>43.191058</td>\n",
       "      <td>[323, 323, 361, 342, 266, 342, 285, 228, 285, ...</td>\n",
       "    </tr>\n",
       "    <tr>\n",
       "      <td>2</td>\n",
       "      <td>40</td>\n",
       "      <td>1317.42</td>\n",
       "      <td>147.539634</td>\n",
       "      <td>[1404, 1248, 1248, 1521, 1404, 1560, 1326, 144...</td>\n",
       "    </tr>\n",
       "    <tr>\n",
       "      <td>3</td>\n",
       "      <td>80</td>\n",
       "      <td>5556.86</td>\n",
       "      <td>394.244037</td>\n",
       "      <td>[5925, 5293, 6083, 4740, 6083, 5925, 5767, 568...</td>\n",
       "    </tr>\n",
       "    <tr>\n",
       "      <td>4</td>\n",
       "      <td>160</td>\n",
       "      <td>23314.17</td>\n",
       "      <td>1258.744867</td>\n",
       "      <td>[22737, 22737, 24486, 23373, 21783, 21465, 232...</td>\n",
       "    </tr>\n",
       "    <tr>\n",
       "      <td>5</td>\n",
       "      <td>320</td>\n",
       "      <td>95936.06</td>\n",
       "      <td>3689.002949</td>\n",
       "      <td>[94743, 87087, 90596, 91234, 100485, 96657, 96...</td>\n",
       "    </tr>\n",
       "    <tr>\n",
       "      <td>6</td>\n",
       "      <td>640</td>\n",
       "      <td>390198.96</td>\n",
       "      <td>10208.620483</td>\n",
       "      <td>[372537, 394263, 403209, 399375, 394263, 39490...</td>\n",
       "    </tr>\n",
       "  </tbody>\n",
       "</table>\n",
       "</div>"
      ],
      "text/plain": [
       "     n    opsMean        opsStd  \\\n",
       "0   10      67.32     14.705020   \n",
       "1   20     303.05     43.191058   \n",
       "2   40    1317.42    147.539634   \n",
       "3   80    5556.86    394.244037   \n",
       "4  160   23314.17   1258.744867   \n",
       "5  320   95936.06   3689.002949   \n",
       "6  640  390198.96  10208.620483   \n",
       "\n",
       "                                                 raw  \n",
       "0  [63, 54, 63, 81, 72, 72, 90, 63, 81, 54, 54, 7...  \n",
       "1  [323, 323, 361, 342, 266, 342, 285, 228, 285, ...  \n",
       "2  [1404, 1248, 1248, 1521, 1404, 1560, 1326, 144...  \n",
       "3  [5925, 5293, 6083, 4740, 6083, 5925, 5767, 568...  \n",
       "4  [22737, 22737, 24486, 23373, 21783, 21465, 232...  \n",
       "5  [94743, 87087, 90596, 91234, 100485, 96657, 96...  \n",
       "6  [372537, 394263, 403209, 399375, 394263, 39490...  "
      ]
     },
     "execution_count": 14,
     "metadata": {},
     "output_type": "execute_result"
    }
   ],
   "source": [
    "m = 100\n",
    "df = pd.DataFrame(columns=['n','opsMean','opsStd','raw'])\n",
    "\n",
    "for n in (10,20,40,80,160,320,640):\n",
    "    res = []\n",
    "    print(n, '....')\n",
    "    for i in range(m):\n",
    "        X,Y = generateRandomList(n)\n",
    "        Ysorted, counter1, counter2 = bubbleSort(Y.copy())\n",
    "        res.append(counter1)\n",
    "\n",
    "    df = df.append({'n': n,'opsMean':np.mean(res),'opsStd':np.std(res),'raw':res}, ignore_index=True)\n",
    "    \n",
    "df"
   ]
  },
  {
   "cell_type": "code",
   "execution_count": 17,
   "metadata": {},
   "outputs": [
    {
     "data": {
      "image/png": "[encoded data removed]",
      "text/plain": [
       "<Figure size 432x288 with 1 Axes>"
      ]
     },
     "metadata": {
      "needs_background": "light"
     },
     "output_type": "display_data"
    }
   ],
   "source": [
    "plt.plot(df['n'],df['opsMean'], 'ro')\n",
    "plt.grid(True)"
   ]
  },
  {
   "cell_type": "code",
   "execution_count": 18,
   "metadata": {},
   "outputs": [
    {
     "data": {
      "image/png": "[encoded data removed]",
      "text/plain": [
       "<Figure size 432x288 with 1 Axes>"
      ]
     },
     "metadata": {
      "needs_background": "light"
     },
     "output_type": "display_data"
    }
   ],
   "source": [
    "plt.loglog(df['n'],df['opsMean'], 'ro')\n",
    "plt.grid(True)"
   ]
  },
  {
   "cell_type": "code",
   "execution_count": null,
   "metadata": {},
   "outputs": [],
   "source": []
  },
  {
   "cell_type": "code",
   "execution_count": null,
   "metadata": {},
   "outputs": [],
   "source": []
  }
 ],
 "metadata": {
  "kernelspec": {
   "display_name": "Python 3",
   "language": "python",
   "name": "python3"
  },
  "language_info": {
   "codemirror_mode": {
    "name": "ipython",
    "version": 3
   },
   "file_extension": ".py",
   "mimetype": "text/x-python",
   "name": "python",
   "nbconvert_exporter": "python",
   "pygments_lexer": "ipython3",
   "version": "3.7.4"
  }
 },
 "nbformat": 4,
 "nbformat_minor": 4
}
