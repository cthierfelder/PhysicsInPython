{
 "cells": [
  {
   "cell_type": "markdown",
   "metadata": {},
   "source": [
    "%%latex\n",
    "### Linear Regression\n",
    "We got the data pairs $(x_k,y_k)$ and want to find the best fit $\\hat{y} = m\\hat{x}+b$ using least squares\n",
    "\\begin{align}\n",
    "f(m,b)&=\\sum_k(\\hat{y}_k-y_k)^2\\\\ \n",
    "      &=\\sum_k(m\\hat{x}_k+b-y_k)^2\\\\\n",
    "\\min_{m,b} f(m,b)\n",
    "\\end{align}\n",
    "Meaning\n",
    "\\begin{align}\n",
    "\\frac{\\partial f(m,b)}{\\partial m}&=\\sum_k2(m\\hat{x}_k+b-y_k)\\hat{x}_k\\\\\n",
    "        &=2m\\sum_k\\hat{x}^2_k+2b\\sum_kx_k-2\\sum_ky_k\\hat{x}_k\\\\\n",
    "        &=0\\\\\n",
    "\\frac{\\partial f(m,b)}{\\partial b}&=\\sum_k2(m\\hat{x}_k+b-y_k)\\\\\n",
    "        &=2m\\sum_k\\hat{x}_k+2b K -2\\sum_k y_k\\\\\n",
    "        &=0\n",
    "\\end{align}\n",
    "So the problem is equivalent to solve a system of linear equations for $m$ and $b$\n",
    "\\begin{align}\n",
    "m\\sum_k\\hat{x}^2_k+b\\sum_kx_k-\\sum_ky_k\\hat{x}_k=0\\\\\n",
    "m\\sum_k\\hat{x}_k+b K -\\sum_k y_k=0\n",
    "\\end{align}"
   ]
  },
  {
   "cell_type": "code",
   "execution_count": 13,
   "metadata": {},
   "outputs": [
    {
     "data": {
      "image/png": "[encoded data removed]",
      "text/plain": [
       "<Figure size 432x288 with 1 Axes>"
      ]
     },
     "metadata": {
      "needs_background": "light"
     },
     "output_type": "display_data"
    },
    {
     "name": "stdout",
     "output_type": "stream",
     "text": [
      "InputParameters    - slope: 1.50001     offset: 3.0001\n",
      "regression by hand - slope: 1.44826     offset: 2.85268\n",
      "stats.linregress   - slope: 1.44826     offset: 2.85268\n",
      "more regression info:  0.9933408655365213 1.3760477628384719e-13 0.04658819426626058\n"
     ]
    }
   ],
   "source": [
    "%matplotlib inline\n",
    "import matplotlib.pyplot as plt\n",
    "import numpy as np\n",
    "from scipy import stats\n",
    "\n",
    "n = 15\n",
    "digits = 5\n",
    "mOrig = 1.50001\n",
    "bOrig = 3.0001\n",
    "\n",
    "x = np.random.uniform(-10,10,n)\n",
    "noise = np.random.normal(size = n, loc = 0)\n",
    "y = mOrig*x + bOrig + noise\n",
    "\n",
    "K   = len(y)\n",
    "sx  = np.sum(x)\n",
    "sy  = np.sum(y)\n",
    "sx2 = np.sum(x*x)\n",
    "sxy = np.sum(x*y)\n",
    "\n",
    "m = (sxy*K-sy*sx)/(sx2*K-sx*sx)\n",
    "b = (sy-m*sx)/K\n",
    "\n",
    "plt.plot(x,y,'ro')\n",
    "plt.plot(x,m*x+b)\n",
    "plt.xlim(-20,20)\n",
    "plt.ylim(-20,20)\n",
    "plt.plot(x,mOrig*x+bOrig)\n",
    "plt.show()\n",
    "\n",
    "slope, intercept, r_value, p_value, std_err = stats.linregress(x,y)\n",
    "print('InputParameters    - slope:',round(mOrig,digits), '    offset:',round(bOrig,digits))\n",
    "print('regression by hand - slope:',round(m,digits),     '    offset:',round(b,digits))\n",
    "print('stats.linregress   - slope:',round(slope,digits), '    offset:',round(intercept,digits))\n",
    "print('more regression info: ',r_value, p_value, std_err)"
   ]
  },
  {
   "cell_type": "code",
   "execution_count": null,
   "metadata": {},
   "outputs": [],
   "source": []
  }
 ],
 "metadata": {
  "kernelspec": {
   "display_name": "Python 3",
   "language": "python",
   "name": "python3"
  },
  "language_info": {
   "codemirror_mode": {
    "name": "ipython",
    "version": 3
   },
   "file_extension": ".py",
   "mimetype": "text/x-python",
   "name": "python",
   "nbconvert_exporter": "python",
   "pygments_lexer": "ipython3",
   "version": "3.6.5"
  }
 },
 "nbformat": 4,
 "nbformat_minor": 4
}
