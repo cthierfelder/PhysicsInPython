{
 "cells": [
  {
   "cell_type": "code",
   "execution_count": 1,
   "metadata": {},
   "outputs": [],
   "source": [
    "import numpy as np\n",
    "import matplotlib.pyplot as plt\n",
    "%matplotlib notebook"
   ]
  },
  {
   "cell_type": "code",
   "execution_count": 2,
   "metadata": {},
   "outputs": [
    {
     "name": "stdout",
     "output_type": "stream",
     "text": [
      "Found all primes <  1000000\n"
     ]
    }
   ],
   "source": [
    "CUTOFF = 1000000\n",
    "\n",
    "def findPrimesSmallerX(X):\n",
    "    primes=[2]\n",
    "    potentialPrimes = range(3,X,1)\n",
    "    for x in potentialPrimes:\n",
    "        sqrtX = np.sqrt(x)\n",
    "        for p in primes:\n",
    "            if x % p == 0:\n",
    "                break\n",
    "            else:\n",
    "                if p > sqrtX:\n",
    "                    primes.append(x)\n",
    "                    break\n",
    "                else:\n",
    "                    pass\n",
    "    return primes\n",
    "\n",
    "PRIMES=findPrimesSmallerX(CUTOFF)\n",
    "print('Found all primes < ',CUTOFF)\n",
    "\n",
    "def riemannZeta(s, cutoff=CUTOFF):\n",
    "    n       = np.linspace(1, cutoff, cutoff)\n",
    "    nRec    = np.reciprocal(n)\n",
    "    nRecPow = np.power(nRec,s)\n",
    "    return np.sum(nRecPow)\n",
    "\n",
    "def riemannZetaViaPrimes(s, cutoff=CUTOFF):\n",
    "    primes = list(np.float_(PRIMES))\n",
    "    tmp = np.prod(np.reciprocal(np.subtract(1,np.power(np.reciprocal(primes),s))))\n",
    "    return tmp"
   ]
  },
  {
   "cell_type": "code",
   "execution_count": 3,
   "metadata": {},
   "outputs": [
    {
     "name": "stdout",
     "output_type": "stream",
     "text": [
      "1.6449330668487268\n",
      "1.6449339553686277\n"
     ]
    },
    {
     "data": {
      "text/plain": [
       "1.6449340668482264"
      ]
     },
     "execution_count": 3,
     "metadata": {},
     "output_type": "execute_result"
    }
   ],
   "source": [
    "s=2.0\n",
    "print(riemannZeta(s))\n",
    "print(riemannZetaViaPrimes(s))\n",
    "np.pi*np.pi/6"
   ]
  },
  {
   "cell_type": "code",
   "execution_count": 4,
   "metadata": {},
   "outputs": [],
   "source": [
    "x=np.linspace(1.001, 10,100)\n",
    "riemannZ = [riemannZeta(s) for s in x] "
   ]
  },
  {
   "cell_type": "code",
   "execution_count": 5,
   "metadata": {},
   "outputs": [
    {
     "data": {
      "text/plain": [
       "[<matplotlib.lines.Line2D at 0x10688e668>]"
      ]
     },
     "execution_count": 5,
     "metadata": {},
     "output_type": "execute_result"
    },
    {
     "data": {
      "image/png": "[encoded data removed]",
      "text/plain": [
       "<Figure size 432x288 with 1 Axes>"
      ]
     },
     "metadata": {
      "needs_background": "light"
     },
     "output_type": "display_data"
    }
   ],
   "source": [
    "plt.plot(x,riemannZ)"
   ]
  },
  {
   "cell_type": "code",
   "execution_count": 6,
   "metadata": {},
   "outputs": [
    {
     "name": "stdout",
     "output_type": "stream",
     "text": [
      "(0.8614450054897298-0.8541307666419597j)\n",
      "(0.8381429672088944-0.8710541699824439j)\n"
     ]
    }
   ],
   "source": [
    "s=1.250+1.00j\n",
    "print(riemannZeta(s))\n",
    "print(riemannZetaViaPrimes(s))"
   ]
  },
  {
   "cell_type": "code",
   "execution_count": null,
   "metadata": {},
   "outputs": [],
   "source": []
  }
 ],
 "metadata": {
  "kernelspec": {
   "display_name": "Python 3",
   "language": "python",
   "name": "python3"
  },
  "language_info": {
   "codemirror_mode": {
    "name": "ipython",
    "version": 3
   },
   "file_extension": ".py",
   "mimetype": "text/x-python",
   "name": "python",
   "nbconvert_exporter": "python",
   "pygments_lexer": "ipython3",
   "version": "3.6.5"
  }
 },
 "nbformat": 4,
 "nbformat_minor": 4
}
